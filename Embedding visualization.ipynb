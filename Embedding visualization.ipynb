{
 "cells": [
  {
   "cell_type": "code",
   "execution_count": 1,
   "id": "ea1e2c11",
   "metadata": {},
   "outputs": [],
   "source": [
    "import matplotlib.pyplot as plt"
   ]
  },
  {
   "cell_type": "code",
   "execution_count": 2,
   "id": "cf45451f",
   "metadata": {},
   "outputs": [],
   "source": [
    "from sentence_transformers import SentenceTransformer, util"
   ]
  },
  {
   "cell_type": "code",
   "execution_count": 19,
   "id": "40f3973d",
   "metadata": {},
   "outputs": [],
   "source": [
    "from matplotlib import colors"
   ]
  },
  {
   "cell_type": "code",
   "execution_count": null,
   "id": "d3f744c1",
   "metadata": {},
   "outputs": [],
   "source": []
  },
  {
   "cell_type": "code",
   "execution_count": 3,
   "id": "e86399c5",
   "metadata": {},
   "outputs": [],
   "source": [
    "model = SentenceTransformer('all-MiniLM-L6-v2')"
   ]
  },
  {
   "cell_type": "code",
   "execution_count": 4,
   "id": "923546aa",
   "metadata": {},
   "outputs": [],
   "source": [
    "emb1 = model.encode(\"poop\")"
   ]
  },
  {
   "cell_type": "code",
   "execution_count": 6,
   "id": "9b8056b5",
   "metadata": {},
   "outputs": [],
   "source": [
    "import math"
   ]
  },
  {
   "cell_type": "code",
   "execution_count": 12,
   "id": "d5b58905",
   "metadata": {},
   "outputs": [],
   "source": [
    "def print_factors(x):\n",
    "    print(\"The factors of\",x,\"are:\")\n",
    "    for i in range(1, x + 1):\n",
    "        if x % i == 0:\n",
    "            print(i)"
   ]
  },
  {
   "cell_type": "code",
   "execution_count": 13,
   "id": "e638f821",
   "metadata": {},
   "outputs": [
    {
     "name": "stdout",
     "output_type": "stream",
     "text": [
      "The factors of 513 are:\n",
      "1\n",
      "3\n",
      "9\n",
      "19\n",
      "27\n",
      "57\n",
      "171\n",
      "513\n"
     ]
    }
   ],
   "source": [
    "print_factors(513)"
   ]
  },
  {
   "cell_type": "code",
   "execution_count": 14,
   "id": "082c2d9b",
   "metadata": {},
   "outputs": [
    {
     "name": "stdout",
     "output_type": "stream",
     "text": [
      "The factors of 384 are:\n",
      "1\n",
      "2\n",
      "3\n",
      "4\n",
      "6\n",
      "8\n",
      "12\n",
      "16\n",
      "24\n",
      "32\n",
      "48\n",
      "64\n",
      "96\n",
      "128\n",
      "192\n",
      "384\n"
     ]
    }
   ],
   "source": [
    "print_factors(len(emb1))"
   ]
  },
  {
   "cell_type": "code",
   "execution_count": 16,
   "id": "9f5e74a3",
   "metadata": {},
   "outputs": [
    {
     "data": {
      "text/plain": [
       "16.0"
      ]
     },
     "execution_count": 16,
     "metadata": {},
     "output_type": "execute_result"
    }
   ],
   "source": [
    "384/24"
   ]
  },
  {
   "cell_type": "code",
   "execution_count": 8,
   "id": "057a4cfe",
   "metadata": {
    "scrolled": true
   },
   "outputs": [
    {
     "data": {
      "text/plain": [
       "22.627416997969522"
      ]
     },
     "execution_count": 8,
     "metadata": {},
     "output_type": "execute_result"
    }
   ],
   "source": [
    "math.sqrt(512)"
   ]
  },
  {
   "cell_type": "code",
   "execution_count": 17,
   "id": "c4bbf05e",
   "metadata": {},
   "outputs": [],
   "source": [
    "import numpy as np"
   ]
  },
  {
   "cell_type": "code",
   "execution_count": null,
   "id": "19541026",
   "metadata": {},
   "outputs": [],
   "source": []
  },
  {
   "cell_type": "code",
   "execution_count": null,
   "id": "122e39f8",
   "metadata": {},
   "outputs": [],
   "source": []
  },
  {
   "cell_type": "code",
   "execution_count": 132,
   "id": "a837f371",
   "metadata": {},
   "outputs": [],
   "source": [
    "def plot_embedding(embedding):\n",
    "\n",
    "    assert len(embedding)==384\n",
    "    data = np.split(embedding, 16)\n",
    "    \n",
    "    fig, ax = plt.subplots()\n",
    "    ax.imshow(data)#, cmap=cmap, norm=norm)\n",
    "    cmap = plt.get_cmap('turbo')\n",
    "    plt.set_cmap(cmap)\n",
    "    plt.axis('off')\n",
    "#     plt.show()\n",
    "    return ax"
   ]
  },
  {
   "cell_type": "code",
   "execution_count": 105,
   "id": "e1a96998",
   "metadata": {},
   "outputs": [],
   "source": [
    "def emb_plot(text):\n",
    "    emb = model.encode(text)\n",
    "    plot_embedding(emb)"
   ]
  },
  {
   "cell_type": "code",
   "execution_count": 106,
   "id": "5fc61f2e",
   "metadata": {},
   "outputs": [],
   "source": [
    "plot1"
   ]
  },
  {
   "cell_type": "code",
   "execution_count": 116,
   "id": "2155a8cf",
   "metadata": {},
   "outputs": [
    {
     "data": {
      "text/plain": [
       "array([-0.02143557,  0.02070048,  0.05617102, -0.05468953, -0.02961556],\n",
       "      dtype=float32)"
      ]
     },
     "execution_count": 116,
     "metadata": {},
     "output_type": "execute_result"
    }
   ],
   "source": [
    "model.encode(\"Today has been pretty shitty\")[0:5]"
   ]
  },
  {
   "cell_type": "code",
   "execution_count": 115,
   "id": "94656b34",
   "metadata": {
    "scrolled": true
   },
   "outputs": [
    {
     "data": {
      "text/plain": [
       "array([-0.02992879,  0.02603803,  0.07460682,  0.06880749,  0.01914064],\n",
       "      dtype=float32)"
      ]
     },
     "execution_count": 115,
     "metadata": {},
     "output_type": "execute_result"
    }
   ],
   "source": [
    "model.encode(\"Elephants love bananas\")[0:5]"
   ]
  },
  {
   "cell_type": "code",
   "execution_count": 117,
   "id": "ddbdcc9b",
   "metadata": {},
   "outputs": [],
   "source": [
    "emb1 = model.encode(\"Today has been pretty shitty\")"
   ]
  },
  {
   "cell_type": "code",
   "execution_count": 120,
   "id": "ec1696c4",
   "metadata": {
    "scrolled": true
   },
   "outputs": [],
   "source": [
    "emb2 = model.encode(\"Elephants love bananas\")"
   ]
  },
  {
   "cell_type": "code",
   "execution_count": 121,
   "id": "2f5c4fd2",
   "metadata": {},
   "outputs": [],
   "source": [
    "diffs = emb1 - emb2"
   ]
  },
  {
   "cell_type": "code",
   "execution_count": 127,
   "id": "f8dc7bba",
   "metadata": {},
   "outputs": [
    {
     "data": {
      "text/plain": [
       "array([8.49321671e-03, 5.33754937e-03, 1.84358023e-02, 1.23497024e-01,\n",
       "       4.87562045e-02, 5.93425557e-02, 6.55496046e-02, 2.64889896e-02,\n",
       "       2.16636155e-02, 6.94971830e-02, 2.72844005e-02, 1.59476697e-01,\n",
       "       1.30806612e-02, 1.29680485e-01, 1.84046224e-01, 9.46142673e-02,\n",
       "       8.88275541e-03, 5.24836704e-02, 3.76393162e-02, 2.01269910e-02,\n",
       "       1.16330802e-01, 2.85736006e-02, 9.91885737e-03, 1.91625282e-02,\n",
       "       4.35773060e-02, 2.29377411e-02, 4.67826501e-02, 2.25168765e-02,\n",
       "       2.33021397e-02, 3.62700969e-02, 5.19095212e-02, 6.11833781e-02,\n",
       "       3.12377252e-02, 1.29397213e-01, 4.44397815e-02, 5.93649000e-02,\n",
       "       9.22809914e-03, 5.86424619e-02, 5.57078272e-02, 2.71961670e-02,\n",
       "       1.27763860e-02, 1.08703822e-01, 7.98691660e-02, 1.28468007e-01,\n",
       "       7.83163160e-02, 1.11041311e-02, 3.14867422e-02, 5.90726212e-02,\n",
       "       3.09078395e-03, 7.60083497e-02, 5.01594646e-03, 3.32999080e-02,\n",
       "       1.69470444e-01, 3.83545235e-02, 5.49688339e-02, 1.20933585e-01,\n",
       "       2.83692293e-02, 8.31570625e-02, 3.67276445e-02, 1.39636286e-02,\n",
       "       7.05159456e-02, 9.70693119e-03, 3.80489603e-03, 4.31745388e-02,\n",
       "       1.71562824e-02, 2.68982928e-02, 5.15915975e-02, 2.58147195e-02,\n",
       "       1.96842384e-02, 1.01130284e-01, 3.67718786e-02, 8.36241245e-02,\n",
       "       1.62093714e-03, 2.93780807e-02, 6.74940422e-02, 1.87150538e-02,\n",
       "       2.59814039e-03, 4.59851772e-02, 3.05865556e-02, 4.71977144e-02,\n",
       "       9.93069261e-02, 5.15738651e-02, 4.37077358e-02, 8.40277672e-02,\n",
       "       5.34327924e-02, 1.05197988e-02, 6.01647235e-03, 1.08327478e-01,\n",
       "       1.13966078e-01, 1.84442252e-02, 1.03555247e-03, 1.16787434e-01,\n",
       "       3.75418253e-02, 7.90257007e-04, 7.06693307e-02, 2.83529628e-02,\n",
       "       2.65728915e-03, 5.14192954e-02, 3.68737876e-02, 6.30397499e-02,\n",
       "       2.85938457e-02, 8.16345960e-03, 6.26467448e-03, 7.32854158e-02,\n",
       "       1.24514654e-01, 3.77894938e-02, 9.75576416e-02, 8.56927112e-02,\n",
       "       1.71708494e-01, 1.36654973e-01, 4.77173701e-02, 8.20330679e-02,\n",
       "       9.89708584e-03, 1.63229808e-01, 2.79941447e-02, 3.65429595e-02,\n",
       "       2.46161595e-03, 1.80001944e-01, 8.69100764e-02, 9.13783908e-04,\n",
       "       9.95901823e-02, 4.98313345e-02, 6.29202276e-03, 1.19791038e-01,\n",
       "       3.41651328e-02, 1.09360993e-01, 6.77373335e-02, 8.82171776e-35,\n",
       "       9.03914943e-02, 6.28967732e-02, 5.73268868e-02, 7.85990804e-02,\n",
       "       1.28465056e-01, 1.00848168e-01, 5.96870035e-02, 2.05235109e-02,\n",
       "       4.15576547e-02, 1.37181163e-01, 1.94418013e-01, 1.18545189e-01,\n",
       "       4.71609607e-02, 9.71927494e-02, 3.21051702e-02, 1.21271741e-02,\n",
       "       1.75401941e-03, 5.32194115e-02, 1.54799772e-02, 5.88625222e-02,\n",
       "       2.91112438e-02, 2.59374101e-02, 1.60610415e-02, 5.50311580e-02,\n",
       "       2.07639802e-02, 8.56324881e-02, 1.13573428e-02, 1.77322060e-01,\n",
       "       4.24170122e-02, 7.46254474e-02, 1.11490190e-02, 4.44526412e-02,\n",
       "       1.80029258e-01, 3.49026322e-02, 9.52755883e-02, 3.71368378e-02,\n",
       "       5.77242672e-02, 4.50784601e-02, 2.95768566e-02, 1.32446006e-01,\n",
       "       1.08164892e-01, 2.39209086e-03, 6.58111721e-02, 1.91173017e-01,\n",
       "       2.31272504e-02, 6.68536648e-02, 4.10749689e-02, 4.73833233e-02,\n",
       "       6.51769936e-02, 8.80024582e-02, 7.88745806e-02, 6.03002775e-03,\n",
       "       4.68734652e-06, 5.33553679e-03, 1.60973176e-01, 3.63465585e-02,\n",
       "       5.01663908e-02, 5.07038087e-04, 9.65415314e-02, 4.74423692e-02,\n",
       "       1.47823058e-02, 7.15891570e-02, 3.19672301e-02, 1.76214039e-01,\n",
       "       1.42082386e-02, 2.23971978e-02, 9.54942591e-03, 3.14120799e-02,\n",
       "       4.10664119e-02, 7.58308843e-02, 3.44001241e-02, 1.97570994e-02,\n",
       "       1.82488188e-02, 4.20472175e-02, 1.13176137e-01, 1.28577188e-01,\n",
       "       1.01574011e-01, 7.31705204e-02, 1.44824609e-02, 5.25125191e-02,\n",
       "       2.70763729e-02, 3.95567492e-02, 7.16353357e-02, 1.00956544e-01,\n",
       "       9.87641141e-03, 1.78210214e-02, 1.38529558e-02, 1.13813803e-01,\n",
       "       5.40672839e-02, 6.72553033e-02, 2.11730450e-01, 9.22652334e-02,\n",
       "       1.75708625e-02, 3.15625407e-02, 1.96775153e-01, 2.77015823e-33,\n",
       "       1.64182391e-02, 7.76472315e-02, 1.24345206e-01, 4.88332324e-02,\n",
       "       3.51993963e-02, 3.44448872e-02, 4.13218467e-03, 1.05969988e-01,\n",
       "       1.22037418e-02, 8.41767564e-02, 9.82804596e-02, 9.04824883e-02,\n",
       "       1.92665029e-03, 9.11587626e-02, 4.87217531e-02, 2.76595652e-02,\n",
       "       1.54206827e-02, 5.68813831e-02, 3.31252068e-02, 5.40484898e-02,\n",
       "       2.90727168e-02, 3.74855138e-02, 6.32270500e-02, 1.85045339e-02,\n",
       "       1.04989968e-02, 1.92813501e-02, 8.53895992e-02, 9.64236483e-02,\n",
       "       5.23309074e-02, 6.28362373e-02, 2.83604153e-02, 4.33276966e-03,\n",
       "       3.16712819e-02, 7.93793574e-02, 7.61101395e-02, 7.56170601e-02,\n",
       "       5.61042726e-02, 1.37871094e-02, 1.05563283e-01, 1.16608202e-01,\n",
       "       9.95745361e-02, 1.75800826e-02, 3.27455364e-02, 6.77369162e-02,\n",
       "       6.01467676e-03, 1.85872633e-02, 1.42267626e-03, 1.05911002e-01,\n",
       "       6.91855997e-02, 4.33586575e-02, 4.81293276e-02, 8.15378875e-02,\n",
       "       2.96795908e-02, 1.50243789e-01, 6.29763454e-02, 6.10561296e-02,\n",
       "       7.55966306e-02, 1.14056632e-01, 2.05680300e-02, 9.58404541e-02,\n",
       "       9.45104510e-02, 2.28626207e-02, 8.57709795e-02, 8.59943852e-02,\n",
       "       2.13226900e-02, 8.83782580e-02, 3.49878930e-02, 1.69967338e-02,\n",
       "       3.32016796e-02, 3.94132733e-02, 1.05812147e-01, 5.19893765e-02,\n",
       "       1.17473118e-01, 1.38530537e-01, 7.34407976e-02, 4.47039306e-03,\n",
       "       2.40067653e-02, 1.08297884e-01, 3.35428528e-02, 4.94640656e-02,\n",
       "       1.41455397e-01, 2.19072402e-03, 4.90002111e-02, 1.09562144e-01,\n",
       "       4.22026496e-03, 4.08916026e-02, 6.27565905e-02, 1.60011258e-02,\n",
       "       5.04062660e-02, 2.57273838e-02, 5.55751286e-02, 3.18363979e-02,\n",
       "       9.15952027e-02, 5.50173670e-02, 7.95732737e-02, 8.78989237e-09,\n",
       "       7.81155154e-02, 3.77893709e-02, 4.84470464e-02, 2.27266997e-02,\n",
       "       5.38372248e-02, 3.87819335e-02, 9.98104736e-02, 2.97797620e-02,\n",
       "       4.92274761e-02, 6.61180466e-02, 3.86472493e-02, 6.50560707e-02,\n",
       "       5.52435331e-02, 1.69786379e-01, 5.86446375e-03, 3.38044912e-02,\n",
       "       1.99734539e-01, 2.46358793e-02, 1.57984644e-02, 2.56000832e-02,\n",
       "       6.45047799e-02, 7.47960061e-04, 8.82684365e-02, 4.31970768e-02,\n",
       "       4.84288484e-02, 2.15881132e-02, 5.94038516e-04, 3.08064744e-02,\n",
       "       4.74163815e-02, 4.46689427e-02, 4.78206426e-02, 1.78398505e-01,\n",
       "       3.88635173e-02, 7.49980137e-02, 1.02265321e-01, 3.79816592e-02,\n",
       "       2.30875444e-02, 1.45412236e-02, 6.90355301e-02, 8.84873867e-02,\n",
       "       3.27808410e-02, 1.55547298e-02, 6.79309666e-02, 1.70704331e-02,\n",
       "       1.63481571e-02, 1.31809302e-02, 7.35322833e-02, 1.27813295e-02,\n",
       "       7.06098005e-02, 8.98677260e-02, 3.12192626e-02, 5.21866158e-02,\n",
       "       4.71470580e-02, 1.57209467e-02, 7.44697303e-02, 1.24940678e-01,\n",
       "       1.51582323e-02, 5.87832630e-02, 3.26430984e-03, 7.72789717e-02,\n",
       "       1.04491174e-01, 1.11429282e-01, 6.63453862e-02, 1.07329935e-02],\n",
       "      dtype=float32)"
      ]
     },
     "execution_count": 127,
     "metadata": {},
     "output_type": "execute_result"
    }
   ],
   "source": [
    "abs(diffs)"
   ]
  },
  {
   "cell_type": "code",
   "execution_count": 131,
   "id": "0588580e",
   "metadata": {},
   "outputs": [
    {
     "ename": "ValueError",
     "evalue": "x, y, and format string must not be None",
     "output_type": "error",
     "traceback": [
      "\u001b[1;31m---------------------------------------------------------------------------\u001b[0m",
      "\u001b[1;31mValueError\u001b[0m                                Traceback (most recent call last)",
      "Cell \u001b[1;32mIn [131], line 1\u001b[0m\n\u001b[1;32m----> 1\u001b[0m \u001b[43mplt\u001b[49m\u001b[38;5;241;43m.\u001b[39;49m\u001b[43mplot\u001b[49m\u001b[43m(\u001b[49m\u001b[43ma\u001b[49m\u001b[43m)\u001b[49m\n",
      "File \u001b[1;32m~\\.conda\\envs\\nlp_swifter\\lib\\site-packages\\matplotlib\\pyplot.py:2740\u001b[0m, in \u001b[0;36mplot\u001b[1;34m(scalex, scaley, data, *args, **kwargs)\u001b[0m\n\u001b[0;32m   2738\u001b[0m \u001b[38;5;129m@_copy_docstring_and_deprecators\u001b[39m(Axes\u001b[38;5;241m.\u001b[39mplot)\n\u001b[0;32m   2739\u001b[0m \u001b[38;5;28;01mdef\u001b[39;00m \u001b[38;5;21mplot\u001b[39m(\u001b[38;5;241m*\u001b[39margs, scalex\u001b[38;5;241m=\u001b[39m\u001b[38;5;28;01mTrue\u001b[39;00m, scaley\u001b[38;5;241m=\u001b[39m\u001b[38;5;28;01mTrue\u001b[39;00m, data\u001b[38;5;241m=\u001b[39m\u001b[38;5;28;01mNone\u001b[39;00m, \u001b[38;5;241m*\u001b[39m\u001b[38;5;241m*\u001b[39mkwargs):\n\u001b[1;32m-> 2740\u001b[0m     \u001b[38;5;28;01mreturn\u001b[39;00m gca()\u001b[38;5;241m.\u001b[39mplot(\n\u001b[0;32m   2741\u001b[0m         \u001b[38;5;241m*\u001b[39margs, scalex\u001b[38;5;241m=\u001b[39mscalex, scaley\u001b[38;5;241m=\u001b[39mscaley,\n\u001b[0;32m   2742\u001b[0m         \u001b[38;5;241m*\u001b[39m\u001b[38;5;241m*\u001b[39m({\u001b[38;5;124m\"\u001b[39m\u001b[38;5;124mdata\u001b[39m\u001b[38;5;124m\"\u001b[39m: data} \u001b[38;5;28;01mif\u001b[39;00m data \u001b[38;5;129;01mis\u001b[39;00m \u001b[38;5;129;01mnot\u001b[39;00m \u001b[38;5;28;01mNone\u001b[39;00m \u001b[38;5;28;01melse\u001b[39;00m {}), \u001b[38;5;241m*\u001b[39m\u001b[38;5;241m*\u001b[39mkwargs)\n",
      "File \u001b[1;32m~\\.conda\\envs\\nlp_swifter\\lib\\site-packages\\matplotlib\\axes\\_axes.py:1662\u001b[0m, in \u001b[0;36mAxes.plot\u001b[1;34m(self, scalex, scaley, data, *args, **kwargs)\u001b[0m\n\u001b[0;32m   1419\u001b[0m \u001b[38;5;124;03m\"\"\"\u001b[39;00m\n\u001b[0;32m   1420\u001b[0m \u001b[38;5;124;03mPlot y versus x as lines and/or markers.\u001b[39;00m\n\u001b[0;32m   1421\u001b[0m \n\u001b[1;32m   (...)\u001b[0m\n\u001b[0;32m   1659\u001b[0m \u001b[38;5;124;03m(``'green'``) or hex strings (``'#008000'``).\u001b[39;00m\n\u001b[0;32m   1660\u001b[0m \u001b[38;5;124;03m\"\"\"\u001b[39;00m\n\u001b[0;32m   1661\u001b[0m kwargs \u001b[38;5;241m=\u001b[39m cbook\u001b[38;5;241m.\u001b[39mnormalize_kwargs(kwargs, mlines\u001b[38;5;241m.\u001b[39mLine2D)\n\u001b[1;32m-> 1662\u001b[0m lines \u001b[38;5;241m=\u001b[39m [\u001b[38;5;241m*\u001b[39m\u001b[38;5;28mself\u001b[39m\u001b[38;5;241m.\u001b[39m_get_lines(\u001b[38;5;241m*\u001b[39margs, data\u001b[38;5;241m=\u001b[39mdata, \u001b[38;5;241m*\u001b[39m\u001b[38;5;241m*\u001b[39mkwargs)]\n\u001b[0;32m   1663\u001b[0m \u001b[38;5;28;01mfor\u001b[39;00m line \u001b[38;5;129;01min\u001b[39;00m lines:\n\u001b[0;32m   1664\u001b[0m     \u001b[38;5;28mself\u001b[39m\u001b[38;5;241m.\u001b[39madd_line(line)\n",
      "File \u001b[1;32m~\\.conda\\envs\\nlp_swifter\\lib\\site-packages\\matplotlib\\axes\\_base.py:311\u001b[0m, in \u001b[0;36m_process_plot_var_args.__call__\u001b[1;34m(self, data, *args, **kwargs)\u001b[0m\n\u001b[0;32m    309\u001b[0m     this \u001b[38;5;241m+\u001b[39m\u001b[38;5;241m=\u001b[39m args[\u001b[38;5;241m0\u001b[39m],\n\u001b[0;32m    310\u001b[0m     args \u001b[38;5;241m=\u001b[39m args[\u001b[38;5;241m1\u001b[39m:]\n\u001b[1;32m--> 311\u001b[0m \u001b[38;5;28;01myield from\u001b[39;00m \u001b[38;5;28;43mself\u001b[39;49m\u001b[38;5;241;43m.\u001b[39;49m\u001b[43m_plot_args\u001b[49m\u001b[43m(\u001b[49m\n\u001b[0;32m    312\u001b[0m \u001b[43m    \u001b[49m\u001b[43mthis\u001b[49m\u001b[43m,\u001b[49m\u001b[43m \u001b[49m\u001b[43mkwargs\u001b[49m\u001b[43m,\u001b[49m\u001b[43m \u001b[49m\u001b[43mambiguous_fmt_datakey\u001b[49m\u001b[38;5;241;43m=\u001b[39;49m\u001b[43mambiguous_fmt_datakey\u001b[49m\u001b[43m)\u001b[49m\n",
      "File \u001b[1;32m~\\.conda\\envs\\nlp_swifter\\lib\\site-packages\\matplotlib\\axes\\_base.py:465\u001b[0m, in \u001b[0;36m_process_plot_var_args._plot_args\u001b[1;34m(self, tup, kwargs, return_kwargs, ambiguous_fmt_datakey)\u001b[0m\n\u001b[0;32m    462\u001b[0m \u001b[38;5;66;03m# Don't allow any None value; these would be up-converted to one\u001b[39;00m\n\u001b[0;32m    463\u001b[0m \u001b[38;5;66;03m# element array of None which causes problems downstream.\u001b[39;00m\n\u001b[0;32m    464\u001b[0m \u001b[38;5;28;01mif\u001b[39;00m \u001b[38;5;28many\u001b[39m(v \u001b[38;5;129;01mis\u001b[39;00m \u001b[38;5;28;01mNone\u001b[39;00m \u001b[38;5;28;01mfor\u001b[39;00m v \u001b[38;5;129;01min\u001b[39;00m tup):\n\u001b[1;32m--> 465\u001b[0m     \u001b[38;5;28;01mraise\u001b[39;00m \u001b[38;5;167;01mValueError\u001b[39;00m(\u001b[38;5;124m\"\u001b[39m\u001b[38;5;124mx, y, and format string must not be None\u001b[39m\u001b[38;5;124m\"\u001b[39m)\n\u001b[0;32m    467\u001b[0m kw \u001b[38;5;241m=\u001b[39m {}\n\u001b[0;32m    468\u001b[0m \u001b[38;5;28;01mfor\u001b[39;00m prop_name, val \u001b[38;5;129;01min\u001b[39;00m \u001b[38;5;28mzip\u001b[39m((\u001b[38;5;124m'\u001b[39m\u001b[38;5;124mlinestyle\u001b[39m\u001b[38;5;124m'\u001b[39m, \u001b[38;5;124m'\u001b[39m\u001b[38;5;124mmarker\u001b[39m\u001b[38;5;124m'\u001b[39m, \u001b[38;5;124m'\u001b[39m\u001b[38;5;124mcolor\u001b[39m\u001b[38;5;124m'\u001b[39m),\n\u001b[0;32m    469\u001b[0m                           (linestyle, marker, color)):\n",
      "\u001b[1;31mValueError\u001b[0m: x, y, and format string must not be None"
     ]
    },
    {
     "data": {
      "image/png": "[encoded data removed]",
      "text/plain": [
       "<Figure size 640x480 with 1 Axes>"
      ]
     },
     "metadata": {},
     "output_type": "display_data"
    }
   ],
   "source": [
    "plt.plot(a)"
   ]
  },
  {
   "cell_type": "code",
   "execution_count": 129,
   "id": "70c7c670",
   "metadata": {},
   "outputs": [
    {
     "data": {
      "image/png": "[encoded data removed]",
      "text/plain": [
       "<Figure size 640x480 with 4 Axes>"
      ]
     },
     "metadata": {},
     "output_type": "display_data"
    }
   ],
   "source": [
    "fig, axs = plt.subplots(4)"
   ]
  },
  {
   "cell_type": "code",
   "execution_count": 135,
   "id": "4013d298",
   "metadata": {},
   "outputs": [
    {
     "data": {
      "text/plain": [
       "46.66904755831214"
      ]
     },
     "execution_count": 135,
     "metadata": {},
     "output_type": "execute_result"
    }
   ],
   "source": [
    "import math\n",
    "\n",
    "math.sqrt((33**2)+(33**2))"
   ]
  },
  {
   "cell_type": "code",
   "execution_count": 128,
   "id": "4c6fe6a3",
   "metadata": {},
   "outputs": [
    {
     "data": {
      "text/plain": [
       "(-0.5, 23.5, 15.5, -0.5)"
      ]
     },
     "execution_count": 128,
     "metadata": {},
     "output_type": "execute_result"
    },
    {
     "data": {
      "image/png": "[encoded data removed]",
      "text/plain": [
       "<Figure size 640x480 with 1 Axes>"
      ]
     },
     "metadata": {},
     "output_type": "display_data"
    }
   ],
   "source": [
    "data = np.split(abs(diffs), 16)\n",
    "\n",
    "fig, ax = plt.subplots()\n",
    "ax.imshow(data)#, cmap=cmap, norm=norm)\n",
    "cmap = plt.get_cmap('coolwarm')\n",
    "plt.set_cmap(cmap)\n",
    "plt.axis('off')"
   ]
  },
  {
   "cell_type": "code",
   "execution_count": 122,
   "id": "232ae749",
   "metadata": {},
   "outputs": [
    {
     "data": {
      "text/plain": [
       "array([ 8.49321671e-03, -5.33754937e-03, -1.84358023e-02, -1.23497024e-01,\n",
       "       -4.87562045e-02, -5.93425557e-02, -6.55496046e-02, -2.64889896e-02,\n",
       "       -2.16636155e-02, -6.94971830e-02,  2.72844005e-02,  1.59476697e-01,\n",
       "       -1.30806612e-02,  1.29680485e-01, -1.84046224e-01, -9.46142673e-02,\n",
       "       -8.88275541e-03, -5.24836704e-02, -3.76393162e-02, -2.01269910e-02,\n",
       "       -1.16330802e-01, -2.85736006e-02,  9.91885737e-03,  1.91625282e-02,\n",
       "        4.35773060e-02,  2.29377411e-02,  4.67826501e-02,  2.25168765e-02,\n",
       "       -2.33021397e-02, -3.62700969e-02, -5.19095212e-02,  6.11833781e-02,\n",
       "       -3.12377252e-02, -1.29397213e-01,  4.44397815e-02, -5.93649000e-02,\n",
       "        9.22809914e-03,  5.86424619e-02, -5.57078272e-02, -2.71961670e-02,\n",
       "       -1.27763860e-02, -1.08703822e-01, -7.98691660e-02,  1.28468007e-01,\n",
       "        7.83163160e-02,  1.11041311e-02,  3.14867422e-02,  5.90726212e-02,\n",
       "        3.09078395e-03, -7.60083497e-02, -5.01594646e-03,  3.32999080e-02,\n",
       "        1.69470444e-01, -3.83545235e-02,  5.49688339e-02,  1.20933585e-01,\n",
       "        2.83692293e-02,  8.31570625e-02, -3.67276445e-02,  1.39636286e-02,\n",
       "       -7.05159456e-02, -9.70693119e-03,  3.80489603e-03, -4.31745388e-02,\n",
       "        1.71562824e-02,  2.68982928e-02,  5.15915975e-02, -2.58147195e-02,\n",
       "       -1.96842384e-02,  1.01130284e-01, -3.67718786e-02, -8.36241245e-02,\n",
       "        1.62093714e-03, -2.93780807e-02,  6.74940422e-02,  1.87150538e-02,\n",
       "       -2.59814039e-03, -4.59851772e-02,  3.05865556e-02,  4.71977144e-02,\n",
       "        9.93069261e-02,  5.15738651e-02,  4.37077358e-02,  8.40277672e-02,\n",
       "       -5.34327924e-02,  1.05197988e-02,  6.01647235e-03,  1.08327478e-01,\n",
       "        1.13966078e-01,  1.84442252e-02, -1.03555247e-03,  1.16787434e-01,\n",
       "       -3.75418253e-02,  7.90257007e-04,  7.06693307e-02, -2.83529628e-02,\n",
       "       -2.65728915e-03,  5.14192954e-02,  3.68737876e-02,  6.30397499e-02,\n",
       "       -2.85938457e-02,  8.16345960e-03, -6.26467448e-03, -7.32854158e-02,\n",
       "        1.24514654e-01, -3.77894938e-02,  9.75576416e-02,  8.56927112e-02,\n",
       "       -1.71708494e-01, -1.36654973e-01,  4.77173701e-02,  8.20330679e-02,\n",
       "       -9.89708584e-03, -1.63229808e-01,  2.79941447e-02,  3.65429595e-02,\n",
       "       -2.46161595e-03,  1.80001944e-01, -8.69100764e-02,  9.13783908e-04,\n",
       "       -9.95901823e-02,  4.98313345e-02, -6.29202276e-03,  1.19791038e-01,\n",
       "       -3.41651328e-02,  1.09360993e-01,  6.77373335e-02,  8.82171776e-35,\n",
       "        9.03914943e-02,  6.28967732e-02, -5.73268868e-02,  7.85990804e-02,\n",
       "       -1.28465056e-01, -1.00848168e-01,  5.96870035e-02, -2.05235109e-02,\n",
       "       -4.15576547e-02, -1.37181163e-01,  1.94418013e-01, -1.18545189e-01,\n",
       "       -4.71609607e-02, -9.71927494e-02,  3.21051702e-02,  1.21271741e-02,\n",
       "       -1.75401941e-03,  5.32194115e-02, -1.54799772e-02,  5.88625222e-02,\n",
       "        2.91112438e-02, -2.59374101e-02, -1.60610415e-02, -5.50311580e-02,\n",
       "        2.07639802e-02,  8.56324881e-02, -1.13573428e-02,  1.77322060e-01,\n",
       "       -4.24170122e-02, -7.46254474e-02,  1.11490190e-02,  4.44526412e-02,\n",
       "        1.80029258e-01,  3.49026322e-02,  9.52755883e-02,  3.71368378e-02,\n",
       "        5.77242672e-02,  4.50784601e-02, -2.95768566e-02, -1.32446006e-01,\n",
       "       -1.08164892e-01, -2.39209086e-03, -6.58111721e-02, -1.91173017e-01,\n",
       "        2.31272504e-02, -6.68536648e-02, -4.10749689e-02, -4.73833233e-02,\n",
       "       -6.51769936e-02,  8.80024582e-02,  7.88745806e-02, -6.03002775e-03,\n",
       "        4.68734652e-06,  5.33553679e-03, -1.60973176e-01,  3.63465585e-02,\n",
       "       -5.01663908e-02,  5.07038087e-04,  9.65415314e-02,  4.74423692e-02,\n",
       "       -1.47823058e-02, -7.15891570e-02, -3.19672301e-02, -1.76214039e-01,\n",
       "       -1.42082386e-02,  2.23971978e-02, -9.54942591e-03,  3.14120799e-02,\n",
       "       -4.10664119e-02,  7.58308843e-02, -3.44001241e-02,  1.97570994e-02,\n",
       "        1.82488188e-02,  4.20472175e-02,  1.13176137e-01,  1.28577188e-01,\n",
       "       -1.01574011e-01, -7.31705204e-02, -1.44824609e-02,  5.25125191e-02,\n",
       "        2.70763729e-02, -3.95567492e-02,  7.16353357e-02, -1.00956544e-01,\n",
       "        9.87641141e-03,  1.78210214e-02, -1.38529558e-02,  1.13813803e-01,\n",
       "       -5.40672839e-02,  6.72553033e-02, -2.11730450e-01,  9.22652334e-02,\n",
       "        1.75708625e-02,  3.15625407e-02,  1.96775153e-01, -2.77015823e-33,\n",
       "       -1.64182391e-02,  7.76472315e-02, -1.24345206e-01,  4.88332324e-02,\n",
       "       -3.51993963e-02,  3.44448872e-02,  4.13218467e-03,  1.05969988e-01,\n",
       "        1.22037418e-02,  8.41767564e-02,  9.82804596e-02,  9.04824883e-02,\n",
       "       -1.92665029e-03,  9.11587626e-02, -4.87217531e-02,  2.76595652e-02,\n",
       "       -1.54206827e-02, -5.68813831e-02, -3.31252068e-02,  5.40484898e-02,\n",
       "       -2.90727168e-02,  3.74855138e-02, -6.32270500e-02, -1.85045339e-02,\n",
       "        1.04989968e-02,  1.92813501e-02,  8.53895992e-02,  9.64236483e-02,\n",
       "       -5.23309074e-02, -6.28362373e-02, -2.83604153e-02,  4.33276966e-03,\n",
       "       -3.16712819e-02,  7.93793574e-02,  7.61101395e-02,  7.56170601e-02,\n",
       "        5.61042726e-02,  1.37871094e-02, -1.05563283e-01, -1.16608202e-01,\n",
       "       -9.95745361e-02, -1.75800826e-02, -3.27455364e-02, -6.77369162e-02,\n",
       "       -6.01467676e-03, -1.85872633e-02,  1.42267626e-03, -1.05911002e-01,\n",
       "        6.91855997e-02,  4.33586575e-02, -4.81293276e-02,  8.15378875e-02,\n",
       "       -2.96795908e-02,  1.50243789e-01,  6.29763454e-02, -6.10561296e-02,\n",
       "       -7.55966306e-02, -1.14056632e-01, -2.05680300e-02,  9.58404541e-02,\n",
       "       -9.45104510e-02,  2.28626207e-02, -8.57709795e-02, -8.59943852e-02,\n",
       "        2.13226900e-02, -8.83782580e-02, -3.49878930e-02, -1.69967338e-02,\n",
       "       -3.32016796e-02, -3.94132733e-02, -1.05812147e-01, -5.19893765e-02,\n",
       "       -1.17473118e-01, -1.38530537e-01, -7.34407976e-02, -4.47039306e-03,\n",
       "       -2.40067653e-02,  1.08297884e-01, -3.35428528e-02,  4.94640656e-02,\n",
       "        1.41455397e-01, -2.19072402e-03,  4.90002111e-02, -1.09562144e-01,\n",
       "       -4.22026496e-03, -4.08916026e-02,  6.27565905e-02, -1.60011258e-02,\n",
       "        5.04062660e-02,  2.57273838e-02, -5.55751286e-02,  3.18363979e-02,\n",
       "       -9.15952027e-02,  5.50173670e-02, -7.95732737e-02, -8.78989237e-09,\n",
       "        7.81155154e-02, -3.77893709e-02, -4.84470464e-02,  2.27266997e-02,\n",
       "       -5.38372248e-02, -3.87819335e-02,  9.98104736e-02, -2.97797620e-02,\n",
       "        4.92274761e-02,  6.61180466e-02, -3.86472493e-02, -6.50560707e-02,\n",
       "       -5.52435331e-02, -1.69786379e-01,  5.86446375e-03,  3.38044912e-02,\n",
       "       -1.99734539e-01, -2.46358793e-02, -1.57984644e-02,  2.56000832e-02,\n",
       "        6.45047799e-02,  7.47960061e-04, -8.82684365e-02,  4.31970768e-02,\n",
       "        4.84288484e-02, -2.15881132e-02, -5.94038516e-04, -3.08064744e-02,\n",
       "       -4.74163815e-02,  4.46689427e-02,  4.78206426e-02,  1.78398505e-01,\n",
       "        3.88635173e-02,  7.49980137e-02, -1.02265321e-01, -3.79816592e-02,\n",
       "        2.30875444e-02,  1.45412236e-02,  6.90355301e-02,  8.84873867e-02,\n",
       "       -3.27808410e-02, -1.55547298e-02, -6.79309666e-02,  1.70704331e-02,\n",
       "        1.63481571e-02,  1.31809302e-02, -7.35322833e-02, -1.27813295e-02,\n",
       "       -7.06098005e-02, -8.98677260e-02,  3.12192626e-02,  5.21866158e-02,\n",
       "       -4.71470580e-02,  1.57209467e-02,  7.44697303e-02,  1.24940678e-01,\n",
       "        1.51582323e-02, -5.87832630e-02, -3.26430984e-03, -7.72789717e-02,\n",
       "       -1.04491174e-01, -1.11429282e-01, -6.63453862e-02, -1.07329935e-02],\n",
       "      dtype=float32)"
      ]
     },
     "execution_count": 122,
     "metadata": {},
     "output_type": "execute_result"
    }
   ],
   "source": [
    "diffs"
   ]
  },
  {
   "cell_type": "code",
   "execution_count": 130,
   "id": "96700c74",
   "metadata": {},
   "outputs": [
    {
     "data": {
      "image/png": "[encoded data removed]",
      "text/plain": [
       "<Figure size 640x480 with 1 Axes>"
      ]
     },
     "metadata": {},
     "output_type": "display_data"
    }
   ],
   "source": [
    "a = emb_plot(\"Today has been pretty shitty\")"
   ]
  },
  {
   "cell_type": "code",
   "execution_count": 133,
   "id": "084080f9",
   "metadata": {},
   "outputs": [
    {
     "data": {
      "image/png": "[encoded data removed]",
      "text/plain": [
       "<Figure size 640x480 with 1 Axes>"
      ]
     },
     "metadata": {},
     "output_type": "display_data"
    }
   ],
   "source": [
    "emb_plot(\"Today has been pretty shitty\")"
   ]
  },
  {
   "cell_type": "code",
   "execution_count": 134,
   "id": "c40f727f",
   "metadata": {},
   "outputs": [
    {
     "data": {
      "image/png": "[encoded data removed]",
      "text/plain": [
       "<Figure size 640x480 with 1 Axes>"
      ]
     },
     "metadata": {},
     "output_type": "display_data"
    }
   ],
   "source": [
    "emb_plot(\"Elephants love bananas\")"
   ]
  },
  {
   "cell_type": "code",
   "execution_count": 110,
   "id": "4c9acc99",
   "metadata": {},
   "outputs": [
    {
     "data": {
      "text/plain": [
       "0.019033852964639664"
      ]
     },
     "execution_count": 110,
     "metadata": {},
     "output_type": "execute_result"
    }
   ],
   "source": [
    "float(util.cos_sim(model.encode(\"Today has been pretty shitty\"), model.encode(\"Elephants love bananas\"))[0][0])"
   ]
  },
  {
   "cell_type": "code",
   "execution_count": 24,
   "id": "367be996",
   "metadata": {},
   "outputs": [
    {
     "data": {
      "text/plain": [
       "384"
      ]
     },
     "execution_count": 24,
     "metadata": {},
     "output_type": "execute_result"
    }
   ],
   "source": [
    "len(emb1)"
   ]
  },
  {
   "cell_type": "code",
   "execution_count": 23,
   "id": "d0d021ee",
   "metadata": {},
   "outputs": [
    {
     "data": {
      "image/png": "[encoded data removed]",
      "text/plain": [
       "<Figure size 640x480 with 1 Axes>"
      ]
     },
     "metadata": {},
     "output_type": "display_data"
    }
   ],
   "source": [
    "# bounds = [0,10,20]\n",
    "# norm = colors.BoundaryNorm(bounds, cmap.N)\n",
    "\n",
    "fig, ax = plt.subplots()\n",
    "ax.imshow(data)#, cmap=cmap, norm=norm)\n",
    "\n",
    "# draw gridlines\n",
    "# ax.grid(which='major', axis='both', linestyle='-', color='k', linewidth=2)\n",
    "# ax.set_xticks(np.arange(-.5, 10, 1));\n",
    "# ax.set_yticks(np.arange(-.5, 10, 1));\n",
    "# plt.tick_params(\n",
    "#     axis='x',          # changes apply to the x-axis\n",
    "#     which='both',      # both major and minor ticks are affected\n",
    "#     bottom=False,      # ticks along the bottom edge are off\n",
    "#     top=False,         # ticks along the top edge are off\n",
    "#     labelbottom=False) # labels along the bottom edge are off\n",
    "\n",
    "plt.axis('off')\n",
    "plt.show()"
   ]
  },
  {
   "cell_type": "code",
   "execution_count": null,
   "id": "d228ec10",
   "metadata": {},
   "outputs": [],
   "source": []
  },
  {
   "cell_type": "code",
   "execution_count": null,
   "id": "c34c5cf4",
   "metadata": {},
   "outputs": [],
   "source": []
  },
  {
   "cell_type": "code",
   "execution_count": 20,
   "id": "a25184b3",
   "metadata": {},
   "outputs": [],
   "source": [
    "data = np.split(emb1, 16)"
   ]
  },
  {
   "cell_type": "code",
   "execution_count": null,
   "id": "3eee9261",
   "metadata": {},
   "outputs": [],
   "source": []
  },
  {
   "cell_type": "code",
   "execution_count": null,
   "id": "be3175f4",
   "metadata": {},
   "outputs": [],
   "source": []
  },
  {
   "cell_type": "code",
   "execution_count": 10,
   "id": "61c2fc6b",
   "metadata": {},
   "outputs": [
    {
     "data": {
      "text/plain": [
       "27.712812921102035"
      ]
     },
     "execution_count": 10,
     "metadata": {},
     "output_type": "execute_result"
    }
   ],
   "source": [
    "math.sqrt(768)"
   ]
  },
  {
   "cell_type": "code",
   "execution_count": 9,
   "id": "3bae7df3",
   "metadata": {},
   "outputs": [
    {
     "data": {
      "text/plain": [
       "32.0"
      ]
     },
     "execution_count": 9,
     "metadata": {},
     "output_type": "execute_result"
    }
   ],
   "source": [
    "math.sqrt(1024)"
   ]
  },
  {
   "cell_type": "code",
   "execution_count": 7,
   "id": "6d422522",
   "metadata": {},
   "outputs": [
    {
     "data": {
      "text/plain": [
       "19.595917942265423"
      ]
     },
     "execution_count": 7,
     "metadata": {},
     "output_type": "execute_result"
    }
   ],
   "source": [
    "math.sqrt(len(emb1))"
   ]
  },
  {
   "cell_type": "code",
   "execution_count": 5,
   "id": "d27dc2bb",
   "metadata": {},
   "outputs": [
    {
     "data": {
      "text/plain": [
       "array([ 1.79401357e-02, -3.02240569e-02,  3.31506543e-02,  3.43397073e-02,\n",
       "       -8.79565701e-02, -5.42357825e-02,  1.61044151e-01,  1.68914925e-02,\n",
       "        6.26604483e-02, -7.14753717e-02, -2.61303526e-03, -6.24706852e-04,\n",
       "       -2.01735292e-02,  4.18844968e-02, -8.98840204e-02, -7.61051252e-02,\n",
       "        5.65151265e-03,  8.03200901e-03, -3.56787071e-02,  3.38001107e-03,\n",
       "       -1.51884463e-02,  4.64233793e-02, -6.13767002e-03, -1.23137189e-02,\n",
       "       -2.86320075e-02,  7.37936273e-02,  2.18256284e-02, -2.89131794e-02,\n",
       "       -1.54114105e-02, -8.45711529e-02,  5.36340140e-02,  6.71097785e-02,\n",
       "        9.61717293e-02, -3.03057730e-02, -2.49429923e-02, -2.21655257e-02,\n",
       "        6.00174367e-02,  8.61292519e-03,  4.27422076e-02, -6.31089732e-02,\n",
       "       -2.16199970e-03, -5.43812849e-02,  5.71192289e-03, -3.85584831e-02,\n",
       "        1.56800468e-02,  1.59071106e-02,  3.05432267e-02,  4.89147846e-03,\n",
       "       -2.41400860e-02,  2.93929540e-02,  4.60396260e-02, -5.20426445e-02,\n",
       "       -2.67838268e-03, -9.38389171e-03,  2.80011892e-02, -4.34156433e-02,\n",
       "        2.82991529e-02, -3.49130901e-03, -2.12576129e-02, -2.33425070e-02,\n",
       "        5.29653467e-02,  1.22006768e-02, -4.01225053e-02,  3.53354327e-02,\n",
       "        4.11225259e-02, -6.14775158e-02,  2.26193722e-02, -9.49757267e-03,\n",
       "       -1.42122069e-02,  3.70618477e-02, -7.41186365e-02,  1.26010319e-03,\n",
       "       -1.52377291e-02,  5.55898249e-02,  9.96005721e-03,  2.06392203e-02,\n",
       "        3.22858281e-02, -1.02482803e-01,  5.44720851e-02,  5.03724366e-02,\n",
       "        5.04759885e-02,  5.14265895e-02, -4.28826995e-02,  7.39106163e-02,\n",
       "        1.81563932e-03,  4.36429866e-02, -2.74157207e-02,  3.92444246e-02,\n",
       "       -8.72793645e-02, -7.46385083e-02, -1.67680830e-02, -7.29812458e-02,\n",
       "        4.79140542e-02,  3.12664658e-02, -3.15537564e-02,  6.69766683e-03,\n",
       "       -4.70767282e-02, -1.37236670e-01, -6.02535494e-02,  1.96073219e-01,\n",
       "       -6.25547096e-02,  8.10195729e-02,  6.60730004e-02, -3.28362659e-02,\n",
       "        2.71518733e-02,  1.30137736e-02, -5.57944216e-02,  1.32200830e-02,\n",
       "        5.08517101e-02, -9.78247728e-03, -1.86863486e-02,  1.18556842e-02,\n",
       "        5.42473719e-02,  2.19299737e-03, -4.38447371e-02,  1.75224692e-02,\n",
       "        1.40237706e-02, -3.10842250e-03, -6.87768962e-03,  3.35798319e-03,\n",
       "       -1.06923342e-01,  3.87231708e-02, -3.97084206e-02,  2.69423816e-02,\n",
       "       -5.27069718e-02, -1.93338588e-01,  1.13227693e-02, -6.38877001e-34,\n",
       "        1.24529144e-02, -6.96871281e-02,  1.04662403e-01,  2.97149383e-02,\n",
       "       -3.01572698e-04, -1.51132504e-02,  3.76356579e-02, -8.65802243e-02,\n",
       "        1.24291703e-01,  2.63359826e-02, -7.27091171e-03, -9.42640528e-02,\n",
       "       -3.62299159e-02, -3.62754092e-02,  5.77723905e-02,  1.54940784e-02,\n",
       "       -9.85569060e-02,  1.76093712e-01,  6.68666232e-03,  9.48580168e-03,\n",
       "        2.23278217e-02,  5.56476451e-02, -4.54194583e-02,  2.59655770e-02,\n",
       "        8.10101256e-02,  2.15573851e-02, -6.05895817e-02, -5.83718754e-02,\n",
       "        4.60783765e-02, -1.74977770e-03,  3.65682989e-02,  4.00617644e-02,\n",
       "       -1.39244245e-02,  3.07553746e-02, -7.43449330e-02, -9.27391499e-02,\n",
       "        3.67331598e-03,  1.83147788e-02, -8.94899201e-03, -3.85879576e-02,\n",
       "       -3.44228409e-02, -3.01592518e-02, -7.25077242e-02,  5.36791459e-02,\n",
       "        2.56023612e-02, -5.15159331e-02,  2.23046001e-02,  4.36219983e-02,\n",
       "       -2.94798594e-02,  6.59779832e-02,  1.96955781e-02, -6.15338469e-03,\n",
       "       -2.23498456e-02, -4.06243019e-02, -3.80034186e-02, -6.82813600e-02,\n",
       "        6.80642128e-02, -3.08656171e-02,  3.56308967e-02,  4.22897898e-02,\n",
       "        2.91678440e-02,  1.10475205e-01, -2.93995757e-02, -1.23562077e-02,\n",
       "       -2.54928321e-02, -6.01143166e-02, -9.83878318e-03, -8.29229504e-03,\n",
       "        9.43019763e-02,  1.11003444e-01, -6.85532540e-02, -9.13946517e-03,\n",
       "        1.66682880e-02, -6.75659552e-02,  3.15231248e-03, -6.80343136e-02,\n",
       "       -1.90949570e-02, -6.80763088e-03,  2.36520302e-02, -2.78594643e-02,\n",
       "        2.65427791e-02, -9.50268880e-02,  3.33965681e-02, -2.56977286e-02,\n",
       "       -1.03052445e-02,  7.00177476e-02, -1.47312423e-02,  7.04697967e-02,\n",
       "        2.97133345e-02,  4.51385090e-03,  1.50349857e-02,  2.87390612e-02,\n",
       "       -2.82350685e-02, -2.57252660e-02,  1.95998941e-02,  1.79676754e-33,\n",
       "        3.69393155e-02, -4.55708057e-02, -6.97563365e-02,  8.29044729e-02,\n",
       "        3.37319635e-02, -2.80744005e-02, -2.19121054e-02, -2.28141006e-02,\n",
       "       -5.72060347e-02,  1.06491931e-02, -1.17325090e-01, -5.01741248e-04,\n",
       "        1.25700250e-01,  4.47027646e-02,  6.44728541e-02,  5.90793081e-02,\n",
       "        7.49844611e-02,  4.80574556e-03, -5.85123897e-02,  2.40497682e-02,\n",
       "       -5.09291030e-02, -7.20496997e-02,  5.15309386e-02, -4.00243923e-02,\n",
       "       -5.35059050e-02,  4.78331372e-02,  6.60485104e-02, -5.30953966e-02,\n",
       "       -2.70019025e-02,  5.73625229e-02,  8.98404270e-02,  7.44179357e-03,\n",
       "       -3.56570072e-02, -4.22927625e-02,  3.11996061e-02,  3.69686149e-02,\n",
       "       -5.29080629e-02,  2.86558717e-02,  3.28237191e-04, -3.58324125e-02,\n",
       "        8.22305214e-03, -7.32037276e-02,  4.87357229e-02,  1.41144708e-01,\n",
       "       -6.19190186e-02,  1.87681578e-02, -5.52950315e-02,  1.36011967e-03,\n",
       "        8.91633183e-02,  2.93293316e-02, -5.61776385e-02,  4.99978513e-02,\n",
       "        2.38656197e-02, -3.03362105e-02,  1.18354531e-02,  8.14711489e-03,\n",
       "       -1.34179518e-01, -7.41271600e-02, -6.19999878e-02,  1.07656214e-02,\n",
       "       -8.50493275e-03,  9.52717364e-02, -2.27705739e-03,  3.79112326e-02,\n",
       "       -1.19405352e-02, -7.07526633e-04, -7.51748681e-02,  3.33844125e-02,\n",
       "       -1.96776856e-02,  5.59136048e-02, -4.12557973e-03, -1.47593692e-02,\n",
       "       -3.21207615e-03, -1.56136518e-02, -1.26810763e-02,  4.30152006e-02,\n",
       "       -3.19249555e-02,  7.00062960e-02,  2.82094888e-02,  2.07260903e-03,\n",
       "       -4.30788808e-02,  1.49101694e-03,  5.15892683e-03,  2.46262681e-02,\n",
       "       -3.73497754e-02, -4.36670519e-02, -7.75916353e-02,  3.68064344e-02,\n",
       "        2.60829031e-02,  1.85367242e-02,  1.15560330e-02,  4.16077077e-02,\n",
       "       -2.48597078e-02,  1.71927400e-02,  1.91272404e-02, -1.42275622e-08,\n",
       "       -6.27762228e-02, -8.87327865e-02,  1.11836847e-02, -7.72765707e-05,\n",
       "       -1.48602882e-02,  3.38237844e-02, -2.64445990e-02,  8.73480737e-02,\n",
       "        5.82125895e-02, -9.05507244e-03, -3.71729173e-02, -1.80861969e-02,\n",
       "        4.74274643e-02,  8.22492391e-02,  8.16165134e-02,  5.54665690e-03,\n",
       "        4.48451960e-04, -9.34939384e-02, -1.09296096e-02,  3.64763662e-02,\n",
       "       -5.72929941e-02, -9.61910933e-03, -1.43388994e-02,  6.73853457e-02,\n",
       "        3.01859193e-02,  4.97330278e-02, -2.04426758e-02,  8.85268822e-02,\n",
       "       -2.73832660e-02,  3.51326577e-02,  9.83979106e-02,  3.43324207e-02,\n",
       "       -8.29518288e-02,  3.29011716e-02,  3.15661239e-03, -2.76477560e-02,\n",
       "        4.36337329e-02, -2.66873017e-02,  2.62093125e-03, -1.84977073e-02,\n",
       "        8.00552545e-04,  2.32336391e-03,  6.87863082e-02, -2.47904472e-02,\n",
       "       -7.18676969e-02,  1.79745182e-02, -1.29871285e-02,  1.01966027e-03,\n",
       "       -3.33482176e-02, -5.04128970e-02, -5.79940435e-03,  3.34712118e-03,\n",
       "       -1.89978760e-02,  1.13447502e-01,  4.94748875e-02, -2.81377789e-03,\n",
       "        3.31468433e-02,  3.77557091e-02, -3.11928452e-04,  4.64640073e-02,\n",
       "        5.38134538e-02,  3.37432101e-02,  4.86379750e-02,  3.52792107e-02],\n",
       "      dtype=float32)"
      ]
     },
     "execution_count": 5,
     "metadata": {},
     "output_type": "execute_result"
    }
   ],
   "source": [
    "emb1"
   ]
  },
  {
   "cell_type": "code",
   "execution_count": null,
   "id": "c03c46bf",
   "metadata": {},
   "outputs": [],
   "source": []
  }
 ],
 "metadata": {
  "kernelspec": {
   "display_name": "nlp_swifter",
   "language": "python",
   "name": "nlp_swifter"
  },
  "language_info": {
   "codemirror_mode": {
    "name": "ipython",
    "version": 3
   },
   "file_extension": ".py",
   "mimetype": "text/x-python",
   "name": "python",
   "nbconvert_exporter": "python",
   "pygments_lexer": "ipython3",
   "version": "3.10.6"
  }
 },
 "nbformat": 4,
 "nbformat_minor": 5
}
