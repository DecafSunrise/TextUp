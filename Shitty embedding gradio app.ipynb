{
 "cells": [
  {
   "cell_type": "code",
   "execution_count": null,
   "id": "62a655de",
   "metadata": {},
   "outputs": [],
   "source": [
    "import gradio as gr"
   ]
  },
  {
   "cell_type": "code",
   "execution_count": 24,
   "id": "c4d3e4f7",
   "metadata": {},
   "outputs": [],
   "source": [
    "import numpy as np"
   ]
  },
  {
   "cell_type": "code",
   "execution_count": 223,
   "id": "ac8403c4",
   "metadata": {},
   "outputs": [],
   "source": [
    "from sklearn.cluster import AgglomerativeClustering"
   ]
  },
  {
   "cell_type": "code",
   "execution_count": 2,
   "id": "ed3a283c",
   "metadata": {},
   "outputs": [],
   "source": [
    "from sentence_transformers import SentenceTransformer\n",
    "\n",
    "model = SentenceTransformer('all-MiniLM-L6-v2')"
   ]
  },
  {
   "cell_type": "code",
   "execution_count": 169,
   "id": "58976f45",
   "metadata": {},
   "outputs": [],
   "source": [
    "%matplotlib inline\n",
    "\n",
    "import umap.umap_ as umap\n",
    "\n",
    "from matplotlib import pyplot as plt "
   ]
  },
  {
   "cell_type": "code",
   "execution_count": 10,
   "id": "11c3e65b",
   "metadata": {},
   "outputs": [
    {
     "data": {
      "text/plain": [
       "True"
      ]
     },
     "execution_count": 10,
     "metadata": {},
     "output_type": "execute_result"
    }
   ],
   "source": [
    "bool(embeddings) == False"
   ]
  },
  {
   "cell_type": "code",
   "execution_count": 46,
   "id": "903e20fc",
   "metadata": {},
   "outputs": [
    {
     "ename": "ValueError",
     "evalue": "max() arg is an empty sequence",
     "output_type": "error",
     "traceback": [
      "\u001b[1;31m---------------------------------------------------------------------------\u001b[0m",
      "\u001b[1;31mValueError\u001b[0m                                Traceback (most recent call last)",
      "Cell \u001b[1;32mIn [46], line 1\u001b[0m\n\u001b[1;32m----> 1\u001b[0m \u001b[38;5;28;43mmax\u001b[39;49m\u001b[43m(\u001b[49m\u001b[43membeddings\u001b[49m\u001b[43m,\u001b[49m\u001b[43m \u001b[49m\u001b[43mkey\u001b[49m\u001b[38;5;241;43m=\u001b[39;49m\u001b[43membeddings\u001b[49m\u001b[38;5;241;43m.\u001b[39;49m\u001b[43mget\u001b[49m\u001b[43m)\u001b[49m\n",
      "\u001b[1;31mValueError\u001b[0m: max() arg is an empty sequence"
     ]
    }
   ],
   "source": [
    "max(embeddings, key=embeddings.get)"
   ]
  },
  {
   "cell_type": "code",
   "execution_count": 48,
   "id": "71376f17",
   "metadata": {},
   "outputs": [
    {
     "data": {
      "text/plain": [
       "dict_keys([])"
      ]
     },
     "execution_count": 48,
     "metadata": {},
     "output_type": "execute_result"
    }
   ],
   "source": [
    "embeddings.keys()"
   ]
  },
  {
   "cell_type": "code",
   "execution_count": null,
   "id": "45457ea5",
   "metadata": {},
   "outputs": [],
   "source": []
  },
  {
   "cell_type": "code",
   "execution_count": 25,
   "id": "e51a04d1",
   "metadata": {},
   "outputs": [],
   "source": [
    "def plot_embedding(embedding):\n",
    "\n",
    "    assert len(embedding)==384\n",
    "    data = np.split(embedding, 16)\n",
    "    \n",
    "    fig, ax = plt.subplots()\n",
    "    ax.imshow(data)#, cmap=cmap, norm=norm)\n",
    "    cmap = plt.get_cmap('turbo')\n",
    "    plt.set_cmap(cmap)\n",
    "    plt.axis('off')\n",
    "#     plt.show()\n",
    "    return ax"
   ]
  },
  {
   "cell_type": "code",
   "execution_count": null,
   "id": "ed2b4d49",
   "metadata": {},
   "outputs": [],
   "source": []
  },
  {
   "cell_type": "raw",
   "id": "2f6e0976",
   "metadata": {},
   "source": [
    "def emb_plot(text):\n",
    "    emb = model.encode(text)\n",
    "    plot_embedding(emb)"
   ]
  },
  {
   "cell_type": "raw",
   "id": "62c4f05f",
   "metadata": {},
   "source": [
    "def embedding_to_img(text):\n",
    "    embedding = model.encode(text)\n",
    "    assert len(embedding)==384\n",
    "    data = np.split(embedding, 16)\n",
    "    return np.stack(data, axis=0 )"
   ]
  },
  {
   "cell_type": "code",
   "execution_count": 326,
   "id": "e6a7b631",
   "metadata": {},
   "outputs": [],
   "source": [
    "def embed_to_storage(text):\n",
    "    embedding = model.encode(text)\n",
    "    global embeddings\n",
    "#     if globals()[embeddings] == False:\n",
    "    globals()['embeddings'].append((text, embedding))\n",
    "#     else:\n",
    "\n",
    "    embedding = np.split(embedding, 16)\n",
    "    return np.stack(embedding, axis=0 )"
   ]
  },
  {
   "cell_type": "code",
   "execution_count": 331,
   "id": "7d81dec7",
   "metadata": {},
   "outputs": [],
   "source": [
    "def make_plot(embeddings):\n",
    "    if len(embeddings)>=5:\n",
    "        just_embs = [x[1] for x in embeddings]\n",
    "        just_embs = just_embs /  np.linalg.norm(just_embs, axis=1, keepdims=True)\n",
    "\n",
    "        clustering_model = AgglomerativeClustering(n_clusters=None, distance_threshold=1.5, affinity='euclidean') #, affinity='cosine', linkage='average', distance_threshold=0.4)\n",
    "        clustering_model.fit(just_embs)\n",
    "        cluster_assignment = clustering_model.labels_\n",
    "\n",
    "        reducer = umap.UMAP(int(np.ceil(np.sqrt(len(just_embs)))), metric=\"euclidean\")\n",
    "        projections = reducer.fit_transform(just_embs)\n",
    "\n",
    "        x = list(projections[:,0])\n",
    "        y = list(projections[:,1])\n",
    "\n",
    "        plt.scatter(x,y, c=cluster_assignment, cmap='viridis')#, s=cluster_assignment)\n",
    "        plt.axis('off')\n",
    "    else:\n",
    "        print(f\"You currently have {len(embeddings)} embeddings, add more text until you hit 5 to viz!\")\n",
    "# plt.legend()"
   ]
  },
  {
   "cell_type": "code",
   "execution_count": 322,
   "id": "e1f0a28f",
   "metadata": {},
   "outputs": [],
   "source": [
    "embeddings = list()"
   ]
  },
  {
   "cell_type": "code",
   "execution_count": 329,
   "id": "33ed6f74",
   "metadata": {
    "scrolled": true
   },
   "outputs": [
    {
     "data": {
      "text/plain": [
       "3"
      ]
     },
     "execution_count": 329,
     "metadata": {},
     "output_type": "execute_result"
    }
   ],
   "source": [
    "len(embeddings)"
   ]
  },
  {
   "cell_type": "code",
   "execution_count": 327,
   "id": "8a8a9a39",
   "metadata": {},
   "outputs": [
    {
     "name": "stderr",
     "output_type": "stream",
     "text": [
      "C:\\Users\\Danny\\.conda\\envs\\nlp_swifter\\lib\\site-packages\\gradio\\outputs.py:43: UserWarning: Usage of gradio.outputs is deprecated, and will not be supported in the future, please import your components from gradio.components\n",
      "  warnings.warn(\n"
     ]
    },
    {
     "name": "stdout",
     "output_type": "stream",
     "text": [
      "Running on local URL:  http://127.0.0.1:7874\n",
      "\n",
      "To create a public link, set `share=True` in `launch()`.\n"
     ]
    },
    {
     "data": {
      "text/html": [
       "<div><iframe src=\"http://127.0.0.1:7874/\" width=\"100%\" height=\"500\" allow=\"autoplay; camera; microphone; clipboard-read; clipboard-write;\" frameborder=\"0\" allowfullscreen></iframe></div>"
      ],
      "text/plain": [
       "<IPython.core.display.HTML object>"
      ]
     },
     "metadata": {},
     "output_type": "display_data"
    },
    {
     "data": {
      "text/plain": []
     },
     "execution_count": 327,
     "metadata": {},
     "output_type": "execute_result"
    }
   ],
   "source": [
    "\n",
    "ui = gr.Interface(\n",
    "    fn=embed_to_storage,\n",
    "    inputs=gr.Textbox(lines=2, placeholder=\"Name Here...\"),\n",
    "    outputs=gr.outputs.Image(type=\"numpy\"),\n",
    ")\n",
    "ui.launch()\n"
   ]
  },
  {
   "cell_type": "code",
   "execution_count": null,
   "id": "5c19c456",
   "metadata": {},
   "outputs": [],
   "source": []
  },
  {
   "cell_type": "code",
   "execution_count": 233,
   "id": "ab910dda",
   "metadata": {},
   "outputs": [],
   "source": []
  },
  {
   "cell_type": "code",
   "execution_count": null,
   "id": "4fd3c9c6",
   "metadata": {},
   "outputs": [],
   "source": []
  },
  {
   "cell_type": "code",
   "execution_count": 333,
   "id": "70881340",
   "metadata": {},
   "outputs": [
    {
     "data": {
      "image/png": "[encoded data removed]",
      "text/plain": [
       "<Figure size 640x480 with 1 Axes>"
      ]
     },
     "metadata": {},
     "output_type": "display_data"
    }
   ],
   "source": [
    "make_plot(embeddings)"
   ]
  },
  {
   "cell_type": "code",
   "execution_count": null,
   "id": "a954f43e",
   "metadata": {},
   "outputs": [],
   "source": []
  },
  {
   "cell_type": "code",
   "execution_count": 296,
   "id": "2cce3ed4",
   "metadata": {},
   "outputs": [
    {
     "data": {
      "text/plain": [
       "array([1, 0, 0, 0, 0, 0, 0, 1, 1, 0, 2, 2, 2, 0], dtype=int64)"
      ]
     },
     "execution_count": 296,
     "metadata": {},
     "output_type": "execute_result"
    }
   ],
   "source": [
    "cluster_assignment"
   ]
  },
  {
   "cell_type": "code",
   "execution_count": null,
   "id": "fdb3cdc8",
   "metadata": {},
   "outputs": [],
   "source": []
  },
  {
   "cell_type": "code",
   "execution_count": 306,
   "id": "91183d7d",
   "metadata": {},
   "outputs": [
    {
     "data": {
      "text/plain": [
       "array([0, 1, 2], dtype=int64)"
      ]
     },
     "execution_count": 306,
     "metadata": {},
     "output_type": "execute_result"
    }
   ],
   "source": []
  },
  {
   "cell_type": "code",
   "execution_count": 308,
   "id": "7ecb7cbb",
   "metadata": {},
   "outputs": [
    {
     "name": "stdout",
     "output_type": "stream",
     "text": [
      "['elephant', 'horse', 'whore', 'concubine', 'alligator', 'Skunk', 'Cornbread', 'Gull eggs, gathered in spring from the nests of wild gulls, are a source or form of eggs as food. ']\n",
      "['poop', 'Poop', 'Poop sock']\n",
      "['Horseshoes are common good luck charms', \"Thanks for those suggestions, but they don't work for me. \", 'Science Fiction Adventures was a US science fiction magazine, published from 1956 to 1958 by Royal Publications as a companion to Infinity Science Fiction and edited by Larry Shaw for all 12 issues.']\n"
     ]
    }
   ],
   "source": [
    "reducer = umap.UMAP(int(np.ceil(np.sqrt(len(just_embs)))), metric=\"euclidean\")\n",
    "projections = reducer.fit_transform(just_embs)\n",
    "\n",
    "x = list(projections[:,0])\n",
    "y = list(projections[:,1])\n",
    "\n",
    "\n",
    "\n",
    "\n",
    "for zz in np.unique(cluster_assignment):\n",
    "    print(list(compress([x[0] for x in embeddings], cluster_assignment==zz)))\n",
    "#     plt.scatter(x,y, c=cluster_assignment, cmap='viridis')\n",
    "    \n",
    "    \n",
    "    \n",
    "    \n",
    "# plt.legend()"
   ]
  },
  {
   "cell_type": "code",
   "execution_count": 298,
   "id": "05798312",
   "metadata": {},
   "outputs": [
    {
     "data": {
      "text/plain": [
       "<matplotlib.legend.Legend at 0x260da6cc880>"
      ]
     },
     "execution_count": 298,
     "metadata": {},
     "output_type": "execute_result"
    },
    {
     "data": {
      "image/png": "[encoded data removed]",
      "text/plain": [
       "<Figure size 640x480 with 1 Axes>"
      ]
     },
     "metadata": {},
     "output_type": "display_data"
    }
   ],
   "source": [
    "reducer = umap.UMAP(int(np.ceil(np.sqrt(len(just_embs)))), metric=\"euclidean\")\n",
    "projections = reducer.fit_transform(just_embs)\n",
    "\n",
    "for i in range(0, len(embeddings)):\n",
    "    plt.scatter(x[i], y[i], label=embeddings[i][0][:15], c=cluster_assignment[i], cmap='viridis')\n",
    "\n",
    "# plt.scatter(x,y, c=cluster_assignment, cmap='viridis')\n",
    "plt.legend()"
   ]
  },
  {
   "cell_type": "code",
   "execution_count": 277,
   "id": "318a04f2",
   "metadata": {},
   "outputs": [
    {
     "data": {
      "text/plain": [
       "['poop',\n",
       " 'elephant',\n",
       " 'horse',\n",
       " 'whore',\n",
       " 'concubine',\n",
       " 'alligator',\n",
       " 'Skunk',\n",
       " 'Poop',\n",
       " 'Poop sock',\n",
       " 'Cornbread',\n",
       " 'Horseshoes are common good luck charms',\n",
       " \"Thanks for those suggestions, but they don't work for me. \",\n",
       " 'Science Fiction Adventures was a US science fiction magazine, published from 1956 to 1958 by Royal Publications as a companion to Infinity Science Fiction and edited by Larry Shaw for all 12 issues.',\n",
       " 'Gull eggs, gathered in spring from the nests of wild gulls, are a source or form of eggs as food. ']"
      ]
     },
     "execution_count": 277,
     "metadata": {},
     "output_type": "execute_result"
    }
   ],
   "source": [
    "[x[0] for x in embeddings]"
   ]
  },
  {
   "cell_type": "code",
   "execution_count": 278,
   "id": "c4e5b0e6",
   "metadata": {},
   "outputs": [
    {
     "ename": "TypeError",
     "evalue": "only integer scalar arrays can be converted to a scalar index",
     "output_type": "error",
     "traceback": [
      "\u001b[1;31m---------------------------------------------------------------------------\u001b[0m",
      "\u001b[1;31mTypeError\u001b[0m                                 Traceback (most recent call last)",
      "Cell \u001b[1;32mIn [278], line 1\u001b[0m\n\u001b[1;32m----> 1\u001b[0m \u001b[43m[\u001b[49m\u001b[43mx\u001b[49m\u001b[43m[\u001b[49m\u001b[38;5;241;43m0\u001b[39;49m\u001b[43m]\u001b[49m\u001b[43m \u001b[49m\u001b[38;5;28;43;01mfor\u001b[39;49;00m\u001b[43m \u001b[49m\u001b[43mx\u001b[49m\u001b[43m \u001b[49m\u001b[38;5;129;43;01min\u001b[39;49;00m\u001b[43m \u001b[49m\u001b[43membeddings\u001b[49m\u001b[43m]\u001b[49m\u001b[43m[\u001b[49m\u001b[43m:\u001b[49m\u001b[43m:\u001b[49m\u001b[43mcluster_assignment\u001b[49m\u001b[38;5;241;43m==\u001b[39;49m\u001b[38;5;241;43m1\u001b[39;49m\u001b[43m]\u001b[49m\n",
      "\u001b[1;31mTypeError\u001b[0m: only integer scalar arrays can be converted to a scalar index"
     ]
    }
   ],
   "source": [
    "[x[0] for x in embeddings][::cluster_assignment==1]"
   ]
  },
  {
   "cell_type": "code",
   "execution_count": 279,
   "id": "ec607984",
   "metadata": {},
   "outputs": [],
   "source": [
    "from itertools import compress"
   ]
  },
  {
   "cell_type": "code",
   "execution_count": 286,
   "id": "81400162",
   "metadata": {},
   "outputs": [
    {
     "data": {
      "text/plain": [
       "['elephant',\n",
       " 'horse',\n",
       " 'whore',\n",
       " 'concubine',\n",
       " 'alligator',\n",
       " 'Skunk',\n",
       " 'Cornbread',\n",
       " 'Gull eggs, gathered in spring from the nests of wild gulls, are a source or form of eggs as food. ']"
      ]
     },
     "execution_count": 286,
     "metadata": {},
     "output_type": "execute_result"
    }
   ],
   "source": [
    "list(compress([x[0] for x in embeddings], cluster_assignment==0))"
   ]
  },
  {
   "cell_type": "code",
   "execution_count": null,
   "id": "9be0f51b",
   "metadata": {},
   "outputs": [],
   "source": []
  },
  {
   "cell_type": "code",
   "execution_count": 236,
   "id": "592af019",
   "metadata": {},
   "outputs": [
    {
     "data": {
      "text/plain": [
       "array([1, 0, 0, 0, 0, 0, 0, 1, 1, 0, 2, 2, 2, 0], dtype=int64)"
      ]
     },
     "execution_count": 236,
     "metadata": {},
     "output_type": "execute_result"
    }
   ],
   "source": [
    "cluster_assignment"
   ]
  },
  {
   "cell_type": "code",
   "execution_count": 237,
   "id": "2dfc9ae6",
   "metadata": {},
   "outputs": [
    {
     "data": {
      "text/plain": [
       "14"
      ]
     },
     "execution_count": 237,
     "metadata": {},
     "output_type": "execute_result"
    }
   ],
   "source": [
    "len(embeddings)"
   ]
  },
  {
   "cell_type": "code",
   "execution_count": null,
   "id": "08100e50",
   "metadata": {},
   "outputs": [],
   "source": [
    "# https://stackoverflow.com/questions/7908636/how-to-add-hovering-annotations-to-a-plot"
   ]
  },
  {
   "cell_type": "code",
   "execution_count": null,
   "id": "d9f6ef9e",
   "metadata": {},
   "outputs": [],
   "source": [
    "annot = ax.annotate(\"\", xy=(0,0), xytext=(20,20),textcoords=\"offset points\",\n",
    "                    bbox=dict(boxstyle=\"round\", fc=\"w\"),\n",
    "                    arrowprops=dict(arrowstyle=\"->\"))\n",
    "annot.set_visible(False)"
   ]
  },
  {
   "cell_type": "code",
   "execution_count": 254,
   "id": "ee5b4abf",
   "metadata": {},
   "outputs": [
    {
     "name": "stderr",
     "output_type": "stream",
     "text": [
      "C:\\Users\\Danny\\AppData\\Local\\Temp\\ipykernel_17216\\2216437561.py:30: UserWarning: Matplotlib is currently using module://matplotlib_inline.backend_inline, which is a non-GUI backend, so cannot show the figure.\n",
      "  fig.show()\n"
     ]
    },
    {
     "data": {
      "image/png": "[encoded data removed]",
      "text/plain": [
       "<Figure size 640x480 with 1 Axes>"
      ]
     },
     "metadata": {},
     "output_type": "display_data"
    }
   ],
   "source": [
    "\n",
    "def update_annot(ind):\n",
    "    \n",
    "    pos = sc.get_offsets()[ind[\"ind\"][0]]\n",
    "    annot.xy = pos\n",
    "    text = \"{}, {}\".format(\" \".join(list(map(str,ind[\"ind\"]))), \n",
    "                           \" \".join([names[n] for n in ind[\"ind\"]]))\n",
    "    annot.set_text(text)\n",
    "    annot.get_bbox_patch().set_facecolor(cmap(norm(c[ind[\"ind\"][0]])))\n",
    "    annot.get_bbox_patch().set_alpha(0.4)\n",
    "    \n",
    "\n",
    "def hover(event):\n",
    "    vis = annot.get_visible()\n",
    "    if event.inaxes == ax:\n",
    "        cont, ind = sc.contains(event)\n",
    "        if cont:\n",
    "            update_annot(ind)\n",
    "            annot.set_visible(True)\n",
    "            fig.canvas.draw_idle()\n",
    "        else:\n",
    "            if vis:\n",
    "                annot.set_visible(False)\n",
    "                fig.canvas.draw_idle()\n",
    "\n",
    "fig,ax = plt.subplots()\n",
    "fig.canvas.mpl_connect(\"motion_notify_event\", hover)\n",
    "\n",
    "# plt.figure()\n",
    "ax \n",
    "fig.show() "
   ]
  },
  {
   "cell_type": "code",
   "execution_count": null,
   "id": "aed3e672",
   "metadata": {},
   "outputs": [],
   "source": []
  },
  {
   "cell_type": "code",
   "execution_count": 211,
   "id": "1a6241f4",
   "metadata": {},
   "outputs": [],
   "source": [
    "projections2 = reducer.fit([x[1] for x in embeddings])"
   ]
  },
  {
   "cell_type": "code",
   "execution_count": 212,
   "id": "1f8bebf6",
   "metadata": {},
   "outputs": [
    {
     "data": {
      "text/plain": [
       "UMAP(n_neighbors=4, tqdm_kwds={'bar_format': '{desc}: {percentage:3.0f}%| {bar} {n_fmt}/{total_fmt} [{elapsed}]', 'desc': 'Epochs completed', 'disable': True})"
      ]
     },
     "execution_count": 212,
     "metadata": {},
     "output_type": "execute_result"
    }
   ],
   "source": [
    "projections2"
   ]
  },
  {
   "cell_type": "code",
   "execution_count": 213,
   "id": "026cefa7",
   "metadata": {},
   "outputs": [
    {
     "ename": "AttributeError",
     "evalue": "module 'umap.umap_' has no attribute 'plot'",
     "output_type": "error",
     "traceback": [
      "\u001b[1;31m---------------------------------------------------------------------------\u001b[0m",
      "\u001b[1;31mAttributeError\u001b[0m                            Traceback (most recent call last)",
      "Cell \u001b[1;32mIn [213], line 1\u001b[0m\n\u001b[1;32m----> 1\u001b[0m \u001b[43mumap\u001b[49m\u001b[38;5;241;43m.\u001b[39;49m\u001b[43mplot\u001b[49m\u001b[38;5;241m.\u001b[39mpoints(projections2)\n",
      "\u001b[1;31mAttributeError\u001b[0m: module 'umap.umap_' has no attribute 'plot'"
     ]
    }
   ],
   "source": [
    "umap.plot.points(projections2)"
   ]
  },
  {
   "cell_type": "code",
   "execution_count": null,
   "id": "38da9770",
   "metadata": {},
   "outputs": [],
   "source": []
  }
 ],
 "metadata": {
  "kernelspec": {
   "display_name": "nlp_swifter",
   "language": "python",
   "name": "nlp_swifter"
  },
  "language_info": {
   "codemirror_mode": {
    "name": "ipython",
    "version": 3
   },
   "file_extension": ".py",
   "mimetype": "text/x-python",
   "name": "python",
   "nbconvert_exporter": "python",
   "pygments_lexer": "ipython3",
   "version": "3.10.6"
  }
 },
 "nbformat": 4,
 "nbformat_minor": 5
}
